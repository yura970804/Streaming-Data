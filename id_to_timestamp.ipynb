{
 "cells": [
  {
   "cell_type": "code",
   "execution_count": null,
   "id": "22741ef0-c4c5-4231-8597-98f7848e76d5",
   "metadata": {},
   "outputs": [],
   "source": [
    "import requests\n",
    "from datetime import datetime\n",
    "import twitter\n",
    "import random\n",
    "import csv\n",
    "import argparse\n",
    "import os\n",
    "import time\n",
    "import pandas as pd\n",
    "from utils import *"
   ]
  },
  {
   "cell_type": "markdown",
   "id": "eb177b6b-7c2a-4ed8-9f9a-47dbc6a1be6c",
   "metadata": {},
   "source": [
    "## Load data"
   ]
  },
  {
   "cell_type": "code",
   "execution_count": null,
   "id": "df687814-5a26-4a1e-b6ec-c9d8ecdc4f26",
   "metadata": {},
   "outputs": [],
   "source": [
    "data = pd.read_csv(\"./november_2021_COVID-19_Twitter_Streaming_Dataset.csv\")"
   ]
  },
  {
   "cell_type": "code",
   "execution_count": null,
   "id": "3e0ffbf9-c089-4d9a-9751-70d7ed3e7d4e",
   "metadata": {},
   "outputs": [],
   "source": [
    "data.head() ## 42:52 -> machine_id"
   ]
  },
  {
   "cell_type": "markdown",
   "id": "bad015c3-1940-49e9-a50e-b4bb398f3d25",
   "metadata": {},
   "source": [
    "## Data\n",
    "- id -> machine id\n",
    "    - id -> 2진수로 변경 -> [42:52] \n",
    "- id -> 시간으로 변경 \n",
    "    - id = find_tweet_timestamp_post_snowflake(id) \n",
    "    - time = datetime.fromtimestamp(id/1000)"
   ]
  },
  {
   "cell_type": "markdown",
   "id": "f347c460-5cc1-45c3-bc22-45a368669594",
   "metadata": {},
   "source": [
    "## Shuffle data"
   ]
  },
  {
   "cell_type": "code",
   "execution_count": null,
   "id": "a39c62bb-8b8b-44f2-8880-a94e8a5315db",
   "metadata": {},
   "outputs": [],
   "source": [
    "data = data.sample(frac=1)  # frac => 몇 % 의 데이터를 return할 것인지?\n",
    "data.head()\n",
    "# data = data.sample(frac=1).reset_index(drop=True)  # shuffling하고 index reset"
   ]
  },
  {
   "cell_type": "markdown",
   "id": "62f95d3c-3e5e-40c3-ab44-f2a91451de1d",
   "metadata": {},
   "source": [
    "## slice data"
   ]
  },
  {
   "cell_type": "code",
   "execution_count": null,
   "id": "88e646b4-b2b7-4259-a3b2-776dfe702a35",
   "metadata": {},
   "outputs": [],
   "source": [
    "data_num = len(data)\n",
    "divide_data_num = len(data)//3"
   ]
  },
  {
   "cell_type": "code",
   "execution_count": null,
   "id": "a273f028-d6b6-45b5-b436-b88e04f87117",
   "metadata": {},
   "outputs": [],
   "source": [
    "data1 = data.iloc[:divide_data_num, :]\n",
    "data2 = data.iloc[divide_data_num:2*divide_data_num, :]\n",
    "data3 = data.iloc[-divide_data_num:]"
   ]
  },
  {
   "cell_type": "markdown",
   "id": "9081908f-c05b-49f4-aaf7-4f9cf0e7d274",
   "metadata": {},
   "source": [
    "## Sort divided data and save"
   ]
  },
  {
   "cell_type": "markdown",
   "id": "a525db84-54fa-4fb9-a564-7b6f9dafcc79",
   "metadata": {},
   "source": [
    "### Sort"
   ]
  },
  {
   "cell_type": "code",
   "execution_count": null,
   "id": "13918523-5abf-4e9e-ac0c-9d6f87b4cbcc",
   "metadata": {},
   "outputs": [],
   "source": [
    "sorted_data1 = sort_tid(data1)\n",
    "sorted_data2 = sort_tid(data2)\n",
    "sorted_data3 = sort_tid(data3)"
   ]
  },
  {
   "cell_type": "markdown",
   "id": "4ab1cdea-a57c-4aba-822a-592065baab5e",
   "metadata": {},
   "source": [
    "### Save"
   ]
  },
  {
   "cell_type": "code",
   "execution_count": null,
   "id": "b6c0f336-440a-4301-a5a3-f7706c4111cc",
   "metadata": {},
   "outputs": [],
   "source": [
    "sorted_df1 = save_df(sorted_data1)\n",
    "sorted_df2 = save_df(sorted_data2)\n",
    "sorted_df3 = save_df(sorted_data3)"
   ]
  },
  {
   "cell_type": "markdown",
   "id": "db16c515-a4f2-428f-90b7-3d8a8680cb18",
   "metadata": {},
   "source": [
    "## Load sorted data"
   ]
  },
  {
   "cell_type": "code",
   "execution_count": null,
   "id": "65c5d85e-274c-4495-81fa-00df88799c99",
   "metadata": {},
   "outputs": [],
   "source": [
    "sorted_df1 = pd.read_csv(\"data1.csv\")\n",
    "sorted_df2 = pd.read_csv(\"data2.csv\")\n",
    "sorted_df3 = pd.read_csv(\"data3.csv\")"
   ]
  },
  {
   "cell_type": "code",
   "execution_count": null,
   "id": "fbe3d67a-fe7b-4e8f-8c4c-6637969bdbba",
   "metadata": {},
   "outputs": [],
   "source": [
    "for i in range(5):\n",
    "    tid = sorted_df1.loc[i,'_id']\n",
    "    print(find_tweet_timestamp_post_snowflake(tid))"
   ]
  },
  {
   "cell_type": "code",
   "execution_count": null,
   "id": "87e68f39-9114-4a9c-aaed-f86fb42a06b6",
   "metadata": {},
   "outputs": [],
   "source": [
    "for i in range(5):\n",
    "    tid = sorted_df2.loc[i,'_id']\n",
    "    print(find_tweet_timestamp_post_snowflake(tid))"
   ]
  },
  {
   "cell_type": "code",
   "execution_count": null,
   "id": "6ae5e7d5-da41-4c8b-bcc9-ae894d785798",
   "metadata": {},
   "outputs": [],
   "source": [
    "for i in range(5):\n",
    "    tid = sorted_df3.loc[i,'_id']\n",
    "    print(find_tweet_timestamp_post_snowflake(tid))"
   ]
  }
 ],
 "metadata": {
  "kernelspec": {
   "display_name": "Python 3 (ipykernel)",
   "language": "python",
   "name": "python3"
  },
  "language_info": {
   "codemirror_mode": {
    "name": "ipython",
    "version": 3
   },
   "file_extension": ".py",
   "mimetype": "text/x-python",
   "name": "python",
   "nbconvert_exporter": "python",
   "pygments_lexer": "ipython3",
   "version": "3.10.8"
  }
 },
 "nbformat": 4,
 "nbformat_minor": 5
}
