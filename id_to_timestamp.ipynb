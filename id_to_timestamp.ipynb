{
 "cells": [
  {
   "cell_type": "code",
   "execution_count": 1,
   "id": "22741ef0-c4c5-4231-8597-98f7848e76d5",
   "metadata": {},
   "outputs": [],
   "source": [
    "import requests\n",
    "from datetime import datetime\n",
    "import twitter\n",
    "import random\n",
    "import csv\n",
    "import argparse\n",
    "import os\n",
    "import time\n",
    "import pandas as pd"
   ]
  },
  {
   "cell_type": "markdown",
   "id": "85ece516-9ac8-4ce3-bee7-a559ef214b68",
   "metadata": {},
   "source": [
    "# 실험 환경에 맞도록 데이터 만들기"
   ]
  },
  {
   "cell_type": "markdown",
   "id": "eb177b6b-7c2a-4ed8-9f9a-47dbc6a1be6c",
   "metadata": {},
   "source": [
    "## 사용할 데이터 불러오기"
   ]
  },
  {
   "cell_type": "code",
   "execution_count": 2,
   "id": "df687814-5a26-4a1e-b6ec-c9d8ecdc4f26",
   "metadata": {},
   "outputs": [],
   "source": [
    "data = pd.read_csv(\"./november_2021_COVID-19_Twitter_Streaming_Dataset.csv\")"
   ]
  },
  {
   "cell_type": "code",
   "execution_count": 3,
   "id": "3e0ffbf9-c089-4d9a-9751-70d7ed3e7d4e",
   "metadata": {},
   "outputs": [
    {
     "data": {
      "text/html": [
       "<div>\n",
       "<style scoped>\n",
       "    .dataframe tbody tr th:only-of-type {\n",
       "        vertical-align: middle;\n",
       "    }\n",
       "\n",
       "    .dataframe tbody tr th {\n",
       "        vertical-align: top;\n",
       "    }\n",
       "\n",
       "    .dataframe thead th {\n",
       "        text-align: right;\n",
       "    }\n",
       "</style>\n",
       "<table border=\"1\" class=\"dataframe\">\n",
       "  <thead>\n",
       "    <tr style=\"text-align: right;\">\n",
       "      <th></th>\n",
       "      <th>_id</th>\n",
       "    </tr>\n",
       "  </thead>\n",
       "  <tbody>\n",
       "    <tr>\n",
       "      <th>0</th>\n",
       "      <td>1454961019550265345</td>\n",
       "    </tr>\n",
       "    <tr>\n",
       "      <th>1</th>\n",
       "      <td>1454961019600650245</td>\n",
       "    </tr>\n",
       "    <tr>\n",
       "      <th>2</th>\n",
       "      <td>1454961020187947046</td>\n",
       "    </tr>\n",
       "    <tr>\n",
       "      <th>3</th>\n",
       "      <td>1454961019936071680</td>\n",
       "    </tr>\n",
       "    <tr>\n",
       "      <th>4</th>\n",
       "      <td>1454961020431122433</td>\n",
       "    </tr>\n",
       "  </tbody>\n",
       "</table>\n",
       "</div>"
      ],
      "text/plain": [
       "                   _id\n",
       "0  1454961019550265345\n",
       "1  1454961019600650245\n",
       "2  1454961020187947046\n",
       "3  1454961019936071680\n",
       "4  1454961020431122433"
      ]
     },
     "execution_count": 3,
     "metadata": {},
     "output_type": "execute_result"
    }
   ],
   "source": [
    "data.head() ## 42:52 -> machine_id"
   ]
  },
  {
   "cell_type": "markdown",
   "id": "7be5fb6e-3ff3-4feb-a6c5-8c2ea9b5915f",
   "metadata": {},
   "source": [
    "## 사용하는 함수"
   ]
  },
  {
   "cell_type": "markdown",
   "id": "bad015c3-1940-49e9-a50e-b4bb398f3d25",
   "metadata": {},
   "source": [
    "- id -> machine id\n",
    "    - id -> 2진수로 변경 -> [42:52] \n",
    "- id -> 시간으로 변경 \n",
    "    - id = find_tweet_timestamp_post_snowflake(id) \n",
    "    - time = datetime.fromtimestamp(id/1000)"
   ]
  },
  {
   "cell_type": "code",
   "execution_count": 4,
   "id": "ff307d62-bd3b-41e5-b1fe-649931429292",
   "metadata": {},
   "outputs": [],
   "source": [
    "def find_tweet_timestamp_post_snowflake(tid):\n",
    "    offset = 1288834974657\n",
    "    tstamp = (tid >> 22) + offset\n",
    "    time = datetime.fromtimestamp(tstamp/1000)\n",
    "    return time"
   ]
  },
  {
   "cell_type": "code",
   "execution_count": 5,
   "id": "c71e23b9-f8d2-4959-b4be-65d816c57413",
   "metadata": {},
   "outputs": [],
   "source": [
    "def find_machine_id(tid):\n",
    "    binaryNum = format(tid, 'b')\n",
    "    binaryNum = '000'+binaryNum\n",
    "    machine_id = binaryNum[42:52] \n",
    "    return machine_id  "
   ]
  },
  {
   "cell_type": "code",
   "execution_count": 6,
   "id": "6d31ddd6-4334-4b3e-ae12-845544380dc2",
   "metadata": {},
   "outputs": [],
   "source": [
    "def sort_tid(df):\n",
    "    times = []\n",
    "    for i in range(len(df)):\n",
    "        tid = df.iloc[i,]._id\n",
    "        time = find_tweet_timestamp_post_snowflake(tid)\n",
    "        times.append((df.index[i],time))\n",
    "    times.sort(key=lambda x:x[1])\n",
    "    \n",
    "    sorted_data = []\n",
    "    for a,b in times:\n",
    "        tid = df.loc[a]._id\n",
    "        sorted_data.append(tid)\n",
    "    return sorted_data"
   ]
  },
  {
   "cell_type": "code",
   "execution_count": 7,
   "id": "1839f692-6b86-49b5-b2a4-d830a36c1e0b",
   "metadata": {},
   "outputs": [],
   "source": [
    "def save_df(list_, file_name):\n",
    "    df = pd.DataFrame(list_)    \n",
    "    df.rename(columns = {'0' : '_id'}, inplace = True)    \n",
    "    df.to_csv(file_name, mode='w', index=None)\n",
    "    return df"
   ]
  },
  {
   "cell_type": "markdown",
   "id": "f347c460-5cc1-45c3-bc22-45a368669594",
   "metadata": {},
   "source": [
    "## 데이터 shuffle"
   ]
  },
  {
   "cell_type": "code",
   "execution_count": 8,
   "id": "a39c62bb-8b8b-44f2-8880-a94e8a5315db",
   "metadata": {},
   "outputs": [
    {
     "data": {
      "text/html": [
       "<div>\n",
       "<style scoped>\n",
       "    .dataframe tbody tr th:only-of-type {\n",
       "        vertical-align: middle;\n",
       "    }\n",
       "\n",
       "    .dataframe tbody tr th {\n",
       "        vertical-align: top;\n",
       "    }\n",
       "\n",
       "    .dataframe thead th {\n",
       "        text-align: right;\n",
       "    }\n",
       "</style>\n",
       "<table border=\"1\" class=\"dataframe\">\n",
       "  <thead>\n",
       "    <tr style=\"text-align: right;\">\n",
       "      <th></th>\n",
       "      <th>_id</th>\n",
       "    </tr>\n",
       "  </thead>\n",
       "  <tbody>\n",
       "    <tr>\n",
       "      <th>69262335</th>\n",
       "      <td>1462196072210583552</td>\n",
       "    </tr>\n",
       "    <tr>\n",
       "      <th>87859146</th>\n",
       "      <td>1464193714381680645</td>\n",
       "    </tr>\n",
       "    <tr>\n",
       "      <th>64916260</th>\n",
       "      <td>1461697044578504704</td>\n",
       "    </tr>\n",
       "    <tr>\n",
       "      <th>42002832</th>\n",
       "      <td>1459275539575943168</td>\n",
       "    </tr>\n",
       "    <tr>\n",
       "      <th>74625241</th>\n",
       "      <td>1462838396389314560</td>\n",
       "    </tr>\n",
       "  </tbody>\n",
       "</table>\n",
       "</div>"
      ],
      "text/plain": [
       "                          _id\n",
       "69262335  1462196072210583552\n",
       "87859146  1464193714381680645\n",
       "64916260  1461697044578504704\n",
       "42002832  1459275539575943168\n",
       "74625241  1462838396389314560"
      ]
     },
     "execution_count": 8,
     "metadata": {},
     "output_type": "execute_result"
    }
   ],
   "source": [
    "data = data.sample(frac=1)  # frac => 몇 % 의 데이터를 return할 것인지?\n",
    "data.head()\n",
    "# data = data.sample(frac=1).reset_index(drop=True)  # shuffling하고 index reset"
   ]
  },
  {
   "cell_type": "markdown",
   "id": "62f95d3c-3e5e-40c3-ab44-f2a91451de1d",
   "metadata": {},
   "source": [
    "## slice data"
   ]
  },
  {
   "cell_type": "code",
   "execution_count": 9,
   "id": "88e646b4-b2b7-4259-a3b2-776dfe702a35",
   "metadata": {},
   "outputs": [],
   "source": [
    "data_num = len(data)\n",
    "divide_data_num = len(data)//3"
   ]
  },
  {
   "cell_type": "code",
   "execution_count": 10,
   "id": "a273f028-d6b6-45b5-b436-b88e04f87117",
   "metadata": {},
   "outputs": [],
   "source": [
    "data1 = data.iloc[:divide_data_num, :]\n",
    "data2 = data.iloc[divide_data_num:2*divide_data_num, :]\n",
    "data3 = data.iloc[-divide_data_num:]"
   ]
  },
  {
   "cell_type": "markdown",
   "id": "9081908f-c05b-49f4-aaf7-4f9cf0e7d274",
   "metadata": {},
   "source": [
    "## 나눈 데이터 시간으로 sorting 하기"
   ]
  },
  {
   "cell_type": "markdown",
   "id": "a525db84-54fa-4fb9-a564-7b6f9dafcc79",
   "metadata": {},
   "source": [
    "## Sort"
   ]
  },
  {
   "cell_type": "code",
   "execution_count": 11,
   "id": "13918523-5abf-4e9e-ac0c-9d6f87b4cbcc",
   "metadata": {},
   "outputs": [],
   "source": [
    "# sorted_data1 = sort_tid(data1)\n",
    "# sorted_data2 = sort_tid(data2)\n",
    "# sorted_data3 = sort_tid(data3)"
   ]
  },
  {
   "cell_type": "markdown",
   "id": "4ab1cdea-a57c-4aba-822a-592065baab5e",
   "metadata": {},
   "source": [
    "## Save"
   ]
  },
  {
   "cell_type": "code",
   "execution_count": 12,
   "id": "b6c0f336-440a-4301-a5a3-f7706c4111cc",
   "metadata": {},
   "outputs": [],
   "source": [
    "# sorted_df1 = save_df(sorted_data1)\n",
    "# sorted_df2 = save_df(sorted_data2)\n",
    "# sorted_df3 = save_df(sorted_data3)"
   ]
  },
  {
   "cell_type": "code",
   "execution_count": 13,
   "id": "65c5d85e-274c-4495-81fa-00df88799c99",
   "metadata": {},
   "outputs": [],
   "source": [
    "sorted_df1 = pd.read_csv(\"data1.csv\")\n",
    "sorted_df2 = pd.read_csv(\"data2.csv\")\n",
    "sorted_df3 = pd.read_csv(\"data3.csv\")"
   ]
  },
  {
   "cell_type": "code",
   "execution_count": 14,
   "id": "fbe3d67a-fe7b-4e8f-8c4c-6637969bdbba",
   "metadata": {},
   "outputs": [
    {
     "name": "stdout",
     "output_type": "stream",
     "text": [
      "2021-11-01 08:58:33.586000\n",
      "2021-11-01 08:58:33.796000\n",
      "2021-11-01 08:58:33.805000\n",
      "2021-11-01 08:58:33.884000\n",
      "2021-11-01 08:58:33.912000\n"
     ]
    }
   ],
   "source": [
    "for i in range(5):\n",
    "    tid = sorted_df1.loc[i,'_id']\n",
    "    print(find_tweet_timestamp_post_snowflake(tid))"
   ]
  },
  {
   "cell_type": "code",
   "execution_count": 15,
   "id": "87e68f39-9114-4a9c-aaed-f86fb42a06b6",
   "metadata": {},
   "outputs": [
    {
     "name": "stdout",
     "output_type": "stream",
     "text": [
      "2021-11-01 08:58:33.598000\n",
      "2021-11-01 08:58:33.678000\n",
      "2021-11-01 08:58:33.693000\n",
      "2021-11-01 08:58:33.738000\n",
      "2021-11-01 08:58:34.077000\n"
     ]
    }
   ],
   "source": [
    "for i in range(5):\n",
    "    tid = sorted_df2.loc[i,'_id']\n",
    "    print(find_tweet_timestamp_post_snowflake(tid))"
   ]
  },
  {
   "cell_type": "code",
   "execution_count": 16,
   "id": "6ae5e7d5-da41-4c8b-bcc9-ae894d785798",
   "metadata": {},
   "outputs": [
    {
     "name": "stdout",
     "output_type": "stream",
     "text": [
      "2021-11-01 08:58:33.911000\n",
      "2021-11-01 08:58:33.981000\n",
      "2021-11-01 08:58:34.100000\n",
      "2021-11-01 08:58:34.114000\n",
      "2021-11-01 08:58:34.301000\n"
     ]
    }
   ],
   "source": [
    "for i in range(5):\n",
    "    tid = sorted_df3.loc[i,'_id']\n",
    "    print(find_tweet_timestamp_post_snowflake(tid))"
   ]
  }
 ],
 "metadata": {
  "kernelspec": {
   "display_name": "Python 3 (ipykernel)",
   "language": "python",
   "name": "python3"
  },
  "language_info": {
   "codemirror_mode": {
    "name": "ipython",
    "version": 3
   },
   "file_extension": ".py",
   "mimetype": "text/x-python",
   "name": "python",
   "nbconvert_exporter": "python",
   "pygments_lexer": "ipython3",
   "version": "3.10.8"
  }
 },
 "nbformat": 4,
 "nbformat_minor": 5
}
